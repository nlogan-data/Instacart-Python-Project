{
 "cells": [
  {
   "cell_type": "markdown",
   "id": "c54d5611",
   "metadata": {},
   "source": [
    "# 01 Import Libraries and Dataframe"
   ]
  },
  {
   "cell_type": "code",
   "execution_count": 2,
   "id": "cc284a94",
   "metadata": {},
   "outputs": [],
   "source": [
    "#Import Libaries\n",
    "import pandas as pd\n",
    "import numpy as np\n",
    "import os"
   ]
  },
  {
   "cell_type": "code",
   "execution_count": 2,
   "id": "07a25839",
   "metadata": {},
   "outputs": [],
   "source": [
    "#Import Orders & Products dataframe\n",
    "path = r'/Users/Nick/Documents/CareerFoundry/Immersion 4/Instacart Basket Analysis 11.11.21/02 Data/Prepared Data'\n",
    "ords_prods_merged = pd.read_pickle(os.path.join(path, 'orders_products_merged.pkl'))"
   ]
  },
  {
   "cell_type": "code",
   "execution_count": 3,
   "id": "ba88ea63",
   "metadata": {},
   "outputs": [
    {
     "data": {
      "text/plain": [
       "(1000000, 14)"
      ]
     },
     "execution_count": 3,
     "metadata": {},
     "output_type": "execute_result"
    }
   ],
   "source": [
    "#Create subset of Orders & Products for size concerns\n",
    "df = ords_prods_merged[:1000000]\n",
    "df.shape"
   ]
  },
  {
   "cell_type": "markdown",
   "id": "a406ff6f",
   "metadata": {},
   "source": [
    "# 02 If-Statements with User-Defined Functions"
   ]
  },
  {
   "cell_type": "code",
   "execution_count": 6,
   "id": "c2c3240c",
   "metadata": {},
   "outputs": [],
   "source": [
    "#Define price label function for labeling item price range\n",
    "def price_label(row):\n",
    "    if row['prices'] <= 5:\n",
    "        return 'Low-range product'\n",
    "    elif (row['prices'] > 5) and (row['prices'] <= 15):\n",
    "        return 'Mid-range product'\n",
    "    elif row['prices'] > 15:\n",
    "        return 'High-range product'\n",
    "    else:\n",
    "        return 'Not enough data'"
   ]
  },
  {
   "cell_type": "code",
   "execution_count": 7,
   "id": "12267516",
   "metadata": {},
   "outputs": [
    {
     "name": "stderr",
     "output_type": "stream",
     "text": [
      "<ipython-input-7-96e95b3cc15d>:2: SettingWithCopyWarning: \n",
      "A value is trying to be set on a copy of a slice from a DataFrame.\n",
      "Try using .loc[row_indexer,col_indexer] = value instead\n",
      "\n",
      "See the caveats in the documentation: https://pandas.pydata.org/pandas-docs/stable/user_guide/indexing.html#returning-a-view-versus-a-copy\n",
      "  df['price_range'] = df.apply(price_label, axis =1)\n"
     ]
    }
   ],
   "source": [
    "#Implement price label function\n",
    "df['price_range'] = df.apply(price_label, axis =1)"
   ]
  },
  {
   "cell_type": "code",
   "execution_count": 8,
   "id": "7e5bb081",
   "metadata": {},
   "outputs": [
    {
     "data": {
      "text/plain": [
       "Mid-range product    756450\n",
       "Low-range product    243550\n",
       "Name: price_range, dtype: int64"
      ]
     },
     "execution_count": 8,
     "metadata": {},
     "output_type": "execute_result"
    }
   ],
   "source": [
    "#Price range count\n",
    "df['price_range'].value_counts(dropna = False)"
   ]
  },
  {
   "cell_type": "code",
   "execution_count": 9,
   "id": "a9f5ff5e",
   "metadata": {},
   "outputs": [
    {
     "data": {
      "text/plain": [
       "14.8"
      ]
     },
     "execution_count": 9,
     "metadata": {},
     "output_type": "execute_result"
    }
   ],
   "source": [
    "#Check that there are no high-range products\n",
    "df['prices'].max()"
   ]
  },
  {
   "cell_type": "markdown",
   "id": "462bd19d",
   "metadata": {},
   "source": [
    "# 03 If-Statements with the loc() Function"
   ]
  },
  {
   "cell_type": "markdown",
   "id": "408634e5",
   "metadata": {},
   "source": [
    "### Define loc() conditions to label item price range in subset dataframe"
   ]
  },
  {
   "cell_type": "code",
   "execution_count": 10,
   "id": "4192774c",
   "metadata": {},
   "outputs": [
    {
     "name": "stderr",
     "output_type": "stream",
     "text": [
      "/opt/anaconda3/lib/python3.8/site-packages/pandas/core/indexing.py:1599: SettingWithCopyWarning: \n",
      "A value is trying to be set on a copy of a slice from a DataFrame.\n",
      "Try using .loc[row_indexer,col_indexer] = value instead\n",
      "\n",
      "See the caveats in the documentation: https://pandas.pydata.org/pandas-docs/stable/user_guide/indexing.html#returning-a-view-versus-a-copy\n",
      "  self.obj[key] = infer_fill_value(value)\n",
      "/opt/anaconda3/lib/python3.8/site-packages/pandas/core/indexing.py:1720: SettingWithCopyWarning: \n",
      "A value is trying to be set on a copy of a slice from a DataFrame.\n",
      "Try using .loc[row_indexer,col_indexer] = value instead\n",
      "\n",
      "See the caveats in the documentation: https://pandas.pydata.org/pandas-docs/stable/user_guide/indexing.html#returning-a-view-versus-a-copy\n",
      "  self._setitem_single_column(loc, value, pi)\n"
     ]
    }
   ],
   "source": [
    "df.loc[df['prices'] > 15, 'price_range_loc'] = 'High-range product'"
   ]
  },
  {
   "cell_type": "code",
   "execution_count": 11,
   "id": "dd4396b8",
   "metadata": {},
   "outputs": [
    {
     "name": "stderr",
     "output_type": "stream",
     "text": [
      "/opt/anaconda3/lib/python3.8/site-packages/pandas/core/indexing.py:1720: SettingWithCopyWarning: \n",
      "A value is trying to be set on a copy of a slice from a DataFrame.\n",
      "Try using .loc[row_indexer,col_indexer] = value instead\n",
      "\n",
      "See the caveats in the documentation: https://pandas.pydata.org/pandas-docs/stable/user_guide/indexing.html#returning-a-view-versus-a-copy\n",
      "  self._setitem_single_column(loc, value, pi)\n"
     ]
    }
   ],
   "source": [
    "df.loc[(df['prices'] <= 15) & (df['prices'] > 5), 'price_range_loc'] = 'Mid-range product'"
   ]
  },
  {
   "cell_type": "code",
   "execution_count": 12,
   "id": "a57859a0",
   "metadata": {},
   "outputs": [
    {
     "name": "stderr",
     "output_type": "stream",
     "text": [
      "/opt/anaconda3/lib/python3.8/site-packages/pandas/core/indexing.py:1720: SettingWithCopyWarning: \n",
      "A value is trying to be set on a copy of a slice from a DataFrame.\n",
      "Try using .loc[row_indexer,col_indexer] = value instead\n",
      "\n",
      "See the caveats in the documentation: https://pandas.pydata.org/pandas-docs/stable/user_guide/indexing.html#returning-a-view-versus-a-copy\n",
      "  self._setitem_single_column(loc, value, pi)\n"
     ]
    }
   ],
   "source": [
    "df.loc[df['prices'] <= 5, 'price_range_loc'] = 'Low-range product'"
   ]
  },
  {
   "cell_type": "code",
   "execution_count": 13,
   "id": "ab2305d6",
   "metadata": {},
   "outputs": [
    {
     "data": {
      "text/plain": [
       "Mid-range product    756450\n",
       "Low-range product    243550\n",
       "Name: price_range_loc, dtype: int64"
      ]
     },
     "execution_count": 13,
     "metadata": {},
     "output_type": "execute_result"
    }
   ],
   "source": [
    "df['price_range_loc'].value_counts(dropna = False)"
   ]
  },
  {
   "cell_type": "markdown",
   "id": "30d8b400",
   "metadata": {},
   "source": [
    "### Define loc() conditions to label item price range for entire Orders & Products dataframe"
   ]
  },
  {
   "cell_type": "code",
   "execution_count": 14,
   "id": "3950d866",
   "metadata": {},
   "outputs": [],
   "source": [
    "ords_prods_merged.loc[ords_prods_merged['prices'] > 15, 'price_range_loc'] = 'High-range product'"
   ]
  },
  {
   "cell_type": "code",
   "execution_count": 15,
   "id": "2139dcd8",
   "metadata": {},
   "outputs": [],
   "source": [
    "ords_prods_merged.loc[(ords_prods_merged['prices'] <= 15) & (ords_prods_merged['prices'] > 5), 'price_range_loc'] = 'Mid-range product'"
   ]
  },
  {
   "cell_type": "code",
   "execution_count": 16,
   "id": "13a5bd0b",
   "metadata": {},
   "outputs": [],
   "source": [
    "ords_prods_merged.loc[ords_prods_merged['prices'] <= 5, 'price_range_loc'] = 'Low-range product'"
   ]
  },
  {
   "cell_type": "code",
   "execution_count": 17,
   "id": "1e16c2e3",
   "metadata": {},
   "outputs": [
    {
     "data": {
      "text/plain": [
       "Mid-range product     21860860\n",
       "Low-range product     10126321\n",
       "High-range product      417678\n",
       "Name: price_range_loc, dtype: int64"
      ]
     },
     "execution_count": 17,
     "metadata": {},
     "output_type": "execute_result"
    }
   ],
   "source": [
    "#Price range count\n",
    "ords_prods_merged['price_range_loc'].value_counts(dropna = False)"
   ]
  },
  {
   "cell_type": "markdown",
   "id": "bfa1fbcd",
   "metadata": {},
   "source": [
    "# 04 If-Statements with For-Loops"
   ]
  },
  {
   "cell_type": "markdown",
   "id": "7a95f93c",
   "metadata": {},
   "source": [
    "### Goal is to summarize how busy each day of the week is"
   ]
  },
  {
   "cell_type": "code",
   "execution_count": 21,
   "id": "5d889122",
   "metadata": {},
   "outputs": [
    {
     "data": {
      "text/plain": [
       "0    6204182\n",
       "1    5660230\n",
       "6    4496490\n",
       "2    4213830\n",
       "5    4205791\n",
       "3    3840534\n",
       "4    3783802\n",
       "Name: order_day_of_week, dtype: int64"
      ]
     },
     "execution_count": 21,
     "metadata": {},
     "output_type": "execute_result"
    }
   ],
   "source": [
    "#Order count for each DoW\n",
    "ords_prods_merged['order_day_of_week'].value_counts(dropna = False)"
   ]
  },
  {
   "cell_type": "code",
   "execution_count": 22,
   "id": "dd49abe5",
   "metadata": {},
   "outputs": [],
   "source": [
    "#Populate 'result' list with busiest day filters\n",
    "result = []\n",
    "\n",
    "for value in ords_prods_merged['order_day_of_week']:\n",
    "    if value == 0:\n",
    "        result.append('Busiest day')\n",
    "    elif value == 4:\n",
    "        result.append('Least busy day')\n",
    "    else:\n",
    "        result.append('Regularly busy day')"
   ]
  },
  {
   "cell_type": "code",
   "execution_count": 23,
   "id": "6625720a",
   "metadata": {},
   "outputs": [],
   "source": [
    "#Create busiest day column\n",
    "ords_prods_merged['busiest_day'] = result"
   ]
  },
  {
   "cell_type": "code",
   "execution_count": 24,
   "id": "7c0f90b7",
   "metadata": {},
   "outputs": [
    {
     "data": {
      "text/plain": [
       "Regularly busy day    22416875\n",
       "Busiest day            6204182\n",
       "Least busy day         3783802\n",
       "Name: busiest_day, dtype: int64"
      ]
     },
     "execution_count": 24,
     "metadata": {},
     "output_type": "execute_result"
    }
   ],
   "source": [
    "#Count busiest day column to verify frequency\n",
    "ords_prods_merged['busiest_day'].value_counts(dropna = False)"
   ]
  },
  {
   "cell_type": "markdown",
   "id": "d15ccfe6",
   "metadata": {},
   "source": [
    "# 05 Task"
   ]
  },
  {
   "cell_type": "markdown",
   "id": "9b69618e",
   "metadata": {},
   "source": [
    "## 05.02"
   ]
  },
  {
   "cell_type": "code",
   "execution_count": 27,
   "id": "b549b07f",
   "metadata": {},
   "outputs": [],
   "source": [
    "#Create list for busiest days column\n",
    "\n",
    "result = []\n",
    "\n",
    "for value in ords_prods_merged['order_day_of_week']:\n",
    "    if (value == 0) or (value == 1):\n",
    "        result.append('Busier day')\n",
    "    elif (value == 4) or (value == 3):\n",
    "        result.append('Less busy day')\n",
    "    else:\n",
    "        result.append('Regular day')"
   ]
  },
  {
   "cell_type": "code",
   "execution_count": 28,
   "id": "62dc4475",
   "metadata": {},
   "outputs": [],
   "source": [
    "#Create busiest days column\n",
    "ords_prods_merged['busiest_days'] = result"
   ]
  },
  {
   "cell_type": "markdown",
   "id": "361f79f1",
   "metadata": {},
   "source": [
    "## 05.03"
   ]
  },
  {
   "cell_type": "code",
   "execution_count": 29,
   "id": "b008e708",
   "metadata": {},
   "outputs": [
    {
     "data": {
      "text/plain": [
       "Regular day      12916111\n",
       "Busier day       11864412\n",
       "Less busy day     7624336\n",
       "Name: busiest_days, dtype: int64"
      ]
     },
     "execution_count": 29,
     "metadata": {},
     "output_type": "execute_result"
    }
   ],
   "source": [
    "#Count busiest days column to verify frequency\n",
    "ords_prods_merged['busiest_days'].value_counts(dropna = False)"
   ]
  },
  {
   "cell_type": "markdown",
   "id": "12eb9f55",
   "metadata": {},
   "source": [
    "#### The count matches."
   ]
  },
  {
   "cell_type": "markdown",
   "id": "a8a898a8",
   "metadata": {},
   "source": [
    "## 05.04"
   ]
  },
  {
   "cell_type": "code",
   "execution_count": 30,
   "id": "a4518508",
   "metadata": {},
   "outputs": [
    {
     "data": {
      "text/html": [
       "<div>\n",
       "<style scoped>\n",
       "    .dataframe tbody tr th:only-of-type {\n",
       "        vertical-align: middle;\n",
       "    }\n",
       "\n",
       "    .dataframe tbody tr th {\n",
       "        vertical-align: top;\n",
       "    }\n",
       "\n",
       "    .dataframe thead th {\n",
       "        text-align: right;\n",
       "    }\n",
       "</style>\n",
       "<table border=\"1\" class=\"dataframe\">\n",
       "  <thead>\n",
       "    <tr style=\"text-align: right;\">\n",
       "      <th></th>\n",
       "      <th>order_id</th>\n",
       "      <th>user_id</th>\n",
       "      <th>order_number</th>\n",
       "      <th>order_day_of_week</th>\n",
       "      <th>order_hour_of_day</th>\n",
       "      <th>days_since_prior_order</th>\n",
       "      <th>product_id</th>\n",
       "      <th>add_to_cart_order</th>\n",
       "      <th>reordered</th>\n",
       "      <th>product_name</th>\n",
       "      <th>aisle_id</th>\n",
       "      <th>department_id</th>\n",
       "      <th>prices</th>\n",
       "      <th>_merge</th>\n",
       "      <th>price_range_loc</th>\n",
       "      <th>busiest_day</th>\n",
       "      <th>busiest_days</th>\n",
       "    </tr>\n",
       "  </thead>\n",
       "  <tbody>\n",
       "    <tr>\n",
       "      <th>0</th>\n",
       "      <td>2539329</td>\n",
       "      <td>1</td>\n",
       "      <td>1</td>\n",
       "      <td>2</td>\n",
       "      <td>8</td>\n",
       "      <td>NaN</td>\n",
       "      <td>196</td>\n",
       "      <td>1</td>\n",
       "      <td>0</td>\n",
       "      <td>Soda</td>\n",
       "      <td>77</td>\n",
       "      <td>7</td>\n",
       "      <td>9.0</td>\n",
       "      <td>both</td>\n",
       "      <td>Mid-range product</td>\n",
       "      <td>Regularly busy day</td>\n",
       "      <td>Regular day</td>\n",
       "    </tr>\n",
       "    <tr>\n",
       "      <th>1</th>\n",
       "      <td>2398795</td>\n",
       "      <td>1</td>\n",
       "      <td>2</td>\n",
       "      <td>3</td>\n",
       "      <td>7</td>\n",
       "      <td>15.0</td>\n",
       "      <td>196</td>\n",
       "      <td>1</td>\n",
       "      <td>1</td>\n",
       "      <td>Soda</td>\n",
       "      <td>77</td>\n",
       "      <td>7</td>\n",
       "      <td>9.0</td>\n",
       "      <td>both</td>\n",
       "      <td>Mid-range product</td>\n",
       "      <td>Regularly busy day</td>\n",
       "      <td>Less busy day</td>\n",
       "    </tr>\n",
       "    <tr>\n",
       "      <th>2</th>\n",
       "      <td>473747</td>\n",
       "      <td>1</td>\n",
       "      <td>3</td>\n",
       "      <td>3</td>\n",
       "      <td>12</td>\n",
       "      <td>21.0</td>\n",
       "      <td>196</td>\n",
       "      <td>1</td>\n",
       "      <td>1</td>\n",
       "      <td>Soda</td>\n",
       "      <td>77</td>\n",
       "      <td>7</td>\n",
       "      <td>9.0</td>\n",
       "      <td>both</td>\n",
       "      <td>Mid-range product</td>\n",
       "      <td>Regularly busy day</td>\n",
       "      <td>Less busy day</td>\n",
       "    </tr>\n",
       "    <tr>\n",
       "      <th>3</th>\n",
       "      <td>2254736</td>\n",
       "      <td>1</td>\n",
       "      <td>4</td>\n",
       "      <td>4</td>\n",
       "      <td>7</td>\n",
       "      <td>29.0</td>\n",
       "      <td>196</td>\n",
       "      <td>1</td>\n",
       "      <td>1</td>\n",
       "      <td>Soda</td>\n",
       "      <td>77</td>\n",
       "      <td>7</td>\n",
       "      <td>9.0</td>\n",
       "      <td>both</td>\n",
       "      <td>Mid-range product</td>\n",
       "      <td>Least busy day</td>\n",
       "      <td>Less busy day</td>\n",
       "    </tr>\n",
       "    <tr>\n",
       "      <th>4</th>\n",
       "      <td>431534</td>\n",
       "      <td>1</td>\n",
       "      <td>5</td>\n",
       "      <td>4</td>\n",
       "      <td>15</td>\n",
       "      <td>28.0</td>\n",
       "      <td>196</td>\n",
       "      <td>1</td>\n",
       "      <td>1</td>\n",
       "      <td>Soda</td>\n",
       "      <td>77</td>\n",
       "      <td>7</td>\n",
       "      <td>9.0</td>\n",
       "      <td>both</td>\n",
       "      <td>Mid-range product</td>\n",
       "      <td>Least busy day</td>\n",
       "      <td>Less busy day</td>\n",
       "    </tr>\n",
       "  </tbody>\n",
       "</table>\n",
       "</div>"
      ],
      "text/plain": [
       "   order_id  user_id  order_number  order_day_of_week  order_hour_of_day  \\\n",
       "0   2539329        1             1                  2                  8   \n",
       "1   2398795        1             2                  3                  7   \n",
       "2    473747        1             3                  3                 12   \n",
       "3   2254736        1             4                  4                  7   \n",
       "4    431534        1             5                  4                 15   \n",
       "\n",
       "   days_since_prior_order  product_id  add_to_cart_order  reordered  \\\n",
       "0                     NaN         196                  1          0   \n",
       "1                    15.0         196                  1          1   \n",
       "2                    21.0         196                  1          1   \n",
       "3                    29.0         196                  1          1   \n",
       "4                    28.0         196                  1          1   \n",
       "\n",
       "  product_name  aisle_id  department_id  prices _merge    price_range_loc  \\\n",
       "0         Soda        77              7     9.0   both  Mid-range product   \n",
       "1         Soda        77              7     9.0   both  Mid-range product   \n",
       "2         Soda        77              7     9.0   both  Mid-range product   \n",
       "3         Soda        77              7     9.0   both  Mid-range product   \n",
       "4         Soda        77              7     9.0   both  Mid-range product   \n",
       "\n",
       "          busiest_day   busiest_days  \n",
       "0  Regularly busy day    Regular day  \n",
       "1  Regularly busy day  Less busy day  \n",
       "2  Regularly busy day  Less busy day  \n",
       "3      Least busy day  Less busy day  \n",
       "4      Least busy day  Less busy day  "
      ]
     },
     "execution_count": 30,
     "metadata": {},
     "output_type": "execute_result"
    }
   ],
   "source": [
    "#Find name of hour of day column\n",
    "ords_prods_merged.head()"
   ]
  },
  {
   "cell_type": "code",
   "execution_count": 32,
   "id": "3c3e4240",
   "metadata": {},
   "outputs": [
    {
     "data": {
      "text/plain": [
       "10    2761760\n",
       "11    2736140\n",
       "14    2689136\n",
       "15    2662144\n",
       "13    2660954\n",
       "12    2618532\n",
       "16    2535202\n",
       "9     2454203\n",
       "17    2087654\n",
       "8     1718118\n",
       "18    1636502\n",
       "19    1258305\n",
       "20     976156\n",
       "7      891054\n",
       "21     795637\n",
       "22     634225\n",
       "23     402316\n",
       "6      290493\n",
       "0      218769\n",
       "1      115700\n",
       "5       87961\n",
       "2       69375\n",
       "4       53242\n",
       "3       51281\n",
       "Name: order_hour_of_day, dtype: int64"
      ]
     },
     "execution_count": 32,
     "metadata": {},
     "output_type": "execute_result"
    }
   ],
   "source": [
    "#Order count for each hour of day\n",
    "ords_prods_merged['order_hour_of_day'].value_counts(dropna = False)"
   ]
  },
  {
   "cell_type": "code",
   "execution_count": 33,
   "id": "54a19674",
   "metadata": {},
   "outputs": [],
   "source": [
    "#Create list for busiest hours column\n",
    "\n",
    "result = []\n",
    "\n",
    "for value in ords_prods_merged['order_hour_of_day']:\n",
    "    if value == 10:\n",
    "        result.append('Most orders')\n",
    "    elif value == 3:\n",
    "        result.append('Fewest orders')\n",
    "    else:\n",
    "        result.append('Average orders')"
   ]
  },
  {
   "cell_type": "code",
   "execution_count": 35,
   "id": "0edc5011",
   "metadata": {},
   "outputs": [],
   "source": [
    "#Create busiest hours column\n",
    "ords_prods_merged['busiest_period_of_day'] = result"
   ]
  },
  {
   "cell_type": "markdown",
   "id": "c56b895e",
   "metadata": {},
   "source": [
    "## 05.05"
   ]
  },
  {
   "cell_type": "code",
   "execution_count": 36,
   "id": "2b5c2df4",
   "metadata": {},
   "outputs": [
    {
     "data": {
      "text/plain": [
       "Average orders    29591818\n",
       "Most orders        2761760\n",
       "Fewest orders        51281\n",
       "Name: busiest_period_of_day, dtype: int64"
      ]
     },
     "execution_count": 36,
     "metadata": {},
     "output_type": "execute_result"
    }
   ],
   "source": [
    "#Count busiest hours column to verify frequency\n",
    "ords_prods_merged['busiest_period_of_day'].value_counts(dropna = False)"
   ]
  },
  {
   "cell_type": "markdown",
   "id": "7ab948d0",
   "metadata": {},
   "source": [
    "#### 32,404,859 rows in this dataframe."
   ]
  },
  {
   "cell_type": "markdown",
   "id": "b1f31b3f",
   "metadata": {},
   "source": [
    "## 05.07"
   ]
  },
  {
   "cell_type": "code",
   "execution_count": 40,
   "id": "4e3309a1",
   "metadata": {},
   "outputs": [],
   "source": [
    "#Export ords_prods_merged as pickle\n",
    "ords_prods_merged.to_pickle(os.path.join(path, 'orders_products_merged_newvar.pkl'))"
   ]
  }
 ],
 "metadata": {
  "kernelspec": {
   "display_name": "Python 3",
   "language": "python",
   "name": "python3"
  },
  "language_info": {
   "codemirror_mode": {
    "name": "ipython",
    "version": 3
   },
   "file_extension": ".py",
   "mimetype": "text/x-python",
   "name": "python",
   "nbconvert_exporter": "python",
   "pygments_lexer": "ipython3",
   "version": "3.8.8"
  }
 },
 "nbformat": 4,
 "nbformat_minor": 5
}
