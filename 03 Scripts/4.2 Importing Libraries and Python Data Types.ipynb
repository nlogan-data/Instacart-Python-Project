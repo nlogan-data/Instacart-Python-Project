{
 "cells": [
  {
   "cell_type": "markdown",
   "id": "4b6411d0",
   "metadata": {},
   "source": [
    "# 01. Importing libraries"
   ]
  },
  {
   "cell_type": "code",
   "execution_count": 1,
   "id": "a2247ca2",
   "metadata": {},
   "outputs": [],
   "source": [
    "#Import libraries\n",
    "import pandas as pd\n",
    "import numpy as np\n",
    "import os"
   ]
  },
  {
   "cell_type": "markdown",
   "id": "0d07acf9",
   "metadata": {},
   "source": [
    "# 02. Practice"
   ]
  },
  {
   "cell_type": "code",
   "execution_count": 2,
   "id": "c2365f02",
   "metadata": {},
   "outputs": [],
   "source": [
    "x=2"
   ]
  },
  {
   "cell_type": "code",
   "execution_count": 3,
   "id": "6461f44a",
   "metadata": {},
   "outputs": [
    {
     "data": {
      "text/plain": [
       "int"
      ]
     },
     "execution_count": 3,
     "metadata": {},
     "output_type": "execute_result"
    }
   ],
   "source": [
    "type(x)"
   ]
  },
  {
   "cell_type": "code",
   "execution_count": 4,
   "id": "e196a97f",
   "metadata": {},
   "outputs": [],
   "source": [
    "a = 'apple'"
   ]
  },
  {
   "cell_type": "code",
   "execution_count": 5,
   "id": "0a8b7326",
   "metadata": {},
   "outputs": [],
   "source": [
    "b = 'banana'"
   ]
  },
  {
   "cell_type": "code",
   "execution_count": 7,
   "id": "6b6d228c",
   "metadata": {},
   "outputs": [
    {
     "data": {
      "text/plain": [
       "'applebanana'"
      ]
     },
     "execution_count": 7,
     "metadata": {},
     "output_type": "execute_result"
    }
   ],
   "source": [
    "a+b"
   ]
  },
  {
   "cell_type": "code",
   "execution_count": 8,
   "id": "b68fceae",
   "metadata": {},
   "outputs": [],
   "source": [
    "y = 5.89"
   ]
  },
  {
   "cell_type": "code",
   "execution_count": 9,
   "id": "f7f6e244",
   "metadata": {},
   "outputs": [
    {
     "data": {
      "text/plain": [
       "0.33955857385398985"
      ]
     },
     "execution_count": 9,
     "metadata": {},
     "output_type": "execute_result"
    }
   ],
   "source": [
    "x/y"
   ]
  },
  {
   "cell_type": "code",
   "execution_count": 10,
   "id": "d3330c88",
   "metadata": {},
   "outputs": [
    {
     "data": {
      "text/plain": [
       "2.945"
      ]
     },
     "execution_count": 10,
     "metadata": {},
     "output_type": "execute_result"
    }
   ],
   "source": [
    "y/x"
   ]
  },
  {
   "cell_type": "markdown",
   "id": "1df9a8e3",
   "metadata": {},
   "source": [
    "# 0.3 Python Data Types"
   ]
  },
  {
   "cell_type": "code",
   "execution_count": 3,
   "id": "00655c73",
   "metadata": {},
   "outputs": [],
   "source": [
    "x = 0"
   ]
  },
  {
   "cell_type": "code",
   "execution_count": 4,
   "id": "af3a8dbc",
   "metadata": {},
   "outputs": [],
   "source": [
    "y = 100"
   ]
  },
  {
   "cell_type": "code",
   "execution_count": 5,
   "id": "f8ad7735",
   "metadata": {},
   "outputs": [],
   "source": [
    "z = 50"
   ]
  },
  {
   "cell_type": "code",
   "execution_count": 6,
   "id": "7f1e1b01",
   "metadata": {},
   "outputs": [
    {
     "data": {
      "text/plain": [
       "100"
      ]
     },
     "execution_count": 6,
     "metadata": {},
     "output_type": "execute_result"
    }
   ],
   "source": [
    "x + y"
   ]
  },
  {
   "cell_type": "code",
   "execution_count": 9,
   "id": "45909bb0",
   "metadata": {},
   "outputs": [
    {
     "data": {
      "text/plain": [
       "100"
      ]
     },
     "execution_count": 9,
     "metadata": {},
     "output_type": "execute_result"
    }
   ],
   "source": [
    "y - x"
   ]
  },
  {
   "cell_type": "code",
   "execution_count": 10,
   "id": "4c02cec2",
   "metadata": {},
   "outputs": [
    {
     "data": {
      "text/plain": [
       "100"
      ]
     },
     "execution_count": 10,
     "metadata": {},
     "output_type": "execute_result"
    }
   ],
   "source": [
    "z + z"
   ]
  },
  {
   "cell_type": "code",
   "execution_count": 11,
   "id": "b735a494",
   "metadata": {},
   "outputs": [],
   "source": [
    "f1 = 321.23"
   ]
  },
  {
   "cell_type": "code",
   "execution_count": 12,
   "id": "34d7361a",
   "metadata": {},
   "outputs": [],
   "source": [
    "f2 = 23.4"
   ]
  },
  {
   "cell_type": "code",
   "execution_count": 13,
   "id": "30d78e0e",
   "metadata": {},
   "outputs": [
    {
     "data": {
      "text/plain": [
       "13.72777777777778"
      ]
     },
     "execution_count": 13,
     "metadata": {},
     "output_type": "execute_result"
    }
   ],
   "source": [
    "f1/f2"
   ]
  },
  {
   "cell_type": "code",
   "execution_count": 14,
   "id": "eed85afb",
   "metadata": {},
   "outputs": [
    {
     "data": {
      "text/plain": [
       "0.07284500202347227"
      ]
     },
     "execution_count": 14,
     "metadata": {},
     "output_type": "execute_result"
    }
   ],
   "source": [
    "f2/f1"
   ]
  },
  {
   "cell_type": "code",
   "execution_count": 15,
   "id": "57260f16",
   "metadata": {},
   "outputs": [],
   "source": [
    "a = 'apple'"
   ]
  },
  {
   "cell_type": "code",
   "execution_count": 16,
   "id": "2727a8e4",
   "metadata": {},
   "outputs": [],
   "source": [
    "b = 'butter'"
   ]
  },
  {
   "cell_type": "code",
   "execution_count": 17,
   "id": "1058193b",
   "metadata": {},
   "outputs": [
    {
     "data": {
      "text/plain": [
       "'applebutter'"
      ]
     },
     "execution_count": 17,
     "metadata": {},
     "output_type": "execute_result"
    }
   ],
   "source": [
    "a + b"
   ]
  },
  {
   "cell_type": "code",
   "execution_count": 19,
   "id": "40356af4",
   "metadata": {},
   "outputs": [
    {
     "data": {
      "text/plain": [
       "'apple butter'"
      ]
     },
     "execution_count": 19,
     "metadata": {},
     "output_type": "execute_result"
    }
   ],
   "source": [
    "a + ' ' + b"
   ]
  },
  {
   "cell_type": "code",
   "execution_count": 24,
   "id": "df5e0df1",
   "metadata": {},
   "outputs": [],
   "source": [
    "s1 = 'The '"
   ]
  },
  {
   "cell_type": "code",
   "execution_count": 25,
   "id": "07b356da",
   "metadata": {},
   "outputs": [],
   "source": [
    "s2 = 'dog '"
   ]
  },
  {
   "cell_type": "code",
   "execution_count": 27,
   "id": "e69c263c",
   "metadata": {},
   "outputs": [],
   "source": [
    "s3 = 'jumped.'"
   ]
  },
  {
   "cell_type": "code",
   "execution_count": 28,
   "id": "fdcdb754",
   "metadata": {},
   "outputs": [
    {
     "data": {
      "text/plain": [
       "'The dog jumped.'"
      ]
     },
     "execution_count": 28,
     "metadata": {},
     "output_type": "execute_result"
    }
   ],
   "source": [
    "s1 + s2 + s3"
   ]
  },
  {
   "cell_type": "code",
   "execution_count": 29,
   "id": "ababc3f8",
   "metadata": {},
   "outputs": [],
   "source": [
    "s4 = 'Then, '"
   ]
  },
  {
   "cell_type": "code",
   "execution_count": 30,
   "id": "2935d81e",
   "metadata": {},
   "outputs": [],
   "source": [
    "s5 = 'he '"
   ]
  },
  {
   "cell_type": "code",
   "execution_count": 31,
   "id": "7369e0b8",
   "metadata": {},
   "outputs": [],
   "source": [
    "s6 = 'sat.'"
   ]
  },
  {
   "cell_type": "code",
   "execution_count": 32,
   "id": "87777966",
   "metadata": {},
   "outputs": [
    {
     "data": {
      "text/plain": [
       "'Then, he sat.'"
      ]
     },
     "execution_count": 32,
     "metadata": {},
     "output_type": "execute_result"
    }
   ],
   "source": [
    "s4 + s5 + s6"
   ]
  },
  {
   "cell_type": "code",
   "execution_count": 33,
   "id": "d0fef820",
   "metadata": {},
   "outputs": [
    {
     "data": {
      "text/plain": [
       "'dog dog dog dog dog dog dog dog dog dog dog dog dog dog dog dog dog dog dog dog dog dog dog dog dog dog dog dog dog dog dog dog dog dog dog dog dog dog dog dog dog dog dog dog dog dog dog dog dog dog dog dog dog dog dog dog dog dog dog dog dog dog dog dog dog dog dog dog dog dog dog dog dog dog dog dog dog dog dog dog dog dog dog dog dog dog dog dog dog dog dog dog dog dog dog dog dog dog dog dog '"
      ]
     },
     "execution_count": 33,
     "metadata": {},
     "output_type": "execute_result"
    }
   ],
   "source": [
    "s2 * 100"
   ]
  }
 ],
 "metadata": {
  "kernelspec": {
   "display_name": "Python 3",
   "language": "python",
   "name": "python3"
  },
  "language_info": {
   "codemirror_mode": {
    "name": "ipython",
    "version": 3
   },
   "file_extension": ".py",
   "mimetype": "text/x-python",
   "name": "python",
   "nbconvert_exporter": "python",
   "pygments_lexer": "ipython3",
   "version": "3.8.8"
  }
 },
 "nbformat": 4,
 "nbformat_minor": 5
}
